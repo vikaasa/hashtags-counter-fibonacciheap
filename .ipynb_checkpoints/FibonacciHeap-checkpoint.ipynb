{
 "cells": [
  {
   "cell_type": "code",
   "execution_count": null,
   "metadata": {
    "collapsed": true
   },
   "outputs": [],
   "source": [
    "#Max Fibonacci Heap\n",
    "\n",
    "class FibonacciHeap:\n",
    "    class Node:\n",
    "        def __init__(self,data):\n",
    "            self.data = data\n",
    "            self.parent = self.child = self.right = self.left = None\n",
    "            self.mark = False\n",
    "            self.degree = 0\n",
    "    def __init__(self):\n",
    "        self.head = None\n",
    "        self.maxNode = None\n",
    "        \n",
    "    def insert(self, data):\n",
    "        if self.head == None:\n",
    "            self.head = self.Node(data)\n",
    "            self.head.left = self.head.right = self.head\n",
    "            self.maxNode = self.head\n",
    "        else:\n",
    "            newNode = self.Node(data)\n",
    "            self.mergeWithHead(newNode)\n",
    "            \n",
    "    def mergeWithHead(self, newNode):\n",
    "        self.head.right.left = newNode\n",
    "        newNode.right = self.head.right\n",
    "        newNode.left = self.head\n",
    "        self.head.right = newNode\n",
    "        if newNode.data > self.maxNode.data:\n",
    "                maxNode = newNode\n",
    "    \n",
    "    def removeChildFromParent(p,x):\n",
    "        if p.child = p.child.right:\n",
    "            p.child = None\n",
    "        if p.child == x:\n",
    "            p.child = x.right\n",
    "            x.right.parent = p\n",
    "        x.left.right = x.right\n",
    "        x.right.left = x.left\n",
    "        \n",
    "    def cut(self, x, p):\n",
    "        self.removeChildFromParent(p,x)\n",
    "        p.degree -= 1\n",
    "        self.mergeWithHead(x)\n",
    "        x.parent = None\n",
    "        x.mark = False\n",
    "        \n",
    "    def cascadingCut(self, y):\n",
    "        p = y.parent\n",
    "        if p is not None:\n",
    "            if y.mark is False:\n",
    "                y.mark = True\n",
    "            else:\n",
    "                self.cut(self, y, p)\n",
    "                self.cascadingCut(p)\n",
    "    \n",
    "    def iterate(self, head):\n",
    "        node = stop = head\n",
    "        flag = False\n",
    "        while True:\n",
    "            if node == stop and flag is True:\n",
    "                break\n",
    "            elif node == stop:\n",
    "                flag = True\n",
    "            yield node\n",
    "            node = node.right\n",
    "            \n",
    "    def removeFromHead(self, x):\n",
    "        if self.head == x:\n",
    "            if \n",
    "            \n",
    "            \n",
    "    def extractMax(self):\n",
    "        m = self.maxNode\n",
    "        if m is not None:\n",
    "            if m.child is not None:\n",
    "                children = [node for node in self.iterate(m.child)]\n",
    "                for child in children:\n",
    "                    self.mergeWithHead(child)\n",
    "                    child.parent = None\n",
    "                    child.mark = False\n",
    "            if m = m.right:\n",
    "                self.head = None\n",
    "                self.maxNode = None\n",
    "            else:\n",
    "                self.removeFromHead(m)\n",
    "                self.maxNode = max([node for node in self.iterate(head)])\n",
    "                self.pairwiseCombine(self)\n",
    "        return m\n",
    "    \n",
    "    def pairwiseCombine(self):\n",
    "        nodes = [node for node in self.iterate(head)]\n",
    "        \n",
    "            \n",
    "                    \n",
    "                \n",
    "        \n",
    "            \n",
    "            \n",
    "        \n",
    "        "
   ]
  },
  {
   "cell_type": "code",
   "execution_count": 2,
   "metadata": {
    "collapsed": false
   },
   "outputs": [
    {
     "data": {
      "text/plain": [
       "6"
      ]
     },
     "execution_count": 2,
     "metadata": {},
     "output_type": "execute_result"
    }
   ],
   "source": [
    "a = max([3,5,6])\n",
    "a"
   ]
  }
 ],
 "metadata": {
  "kernelspec": {
   "display_name": "Python 2",
   "language": "python",
   "name": "python2"
  },
  "language_info": {
   "codemirror_mode": {
    "name": "ipython",
    "version": 2
   },
   "file_extension": ".py",
   "mimetype": "text/x-python",
   "name": "python",
   "nbconvert_exporter": "python",
   "pygments_lexer": "ipython2",
   "version": "2.7.12"
  }
 },
 "nbformat": 4,
 "nbformat_minor": 0
}
